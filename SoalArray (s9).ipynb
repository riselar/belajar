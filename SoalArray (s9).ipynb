{
  "metadata": {
    "kernelspec": {
      "name": "python",
      "display_name": "Python (Pyodide)",
      "language": "python"
    },
    "language_info": {
      "codemirror_mode": {
        "name": "python",
        "version": 3
      },
      "file_extension": ".py",
      "mimetype": "text/x-python",
      "name": "python",
      "nbconvert_exporter": "python",
      "pygments_lexer": "ipython3",
      "version": "3.8"
    },
    "colab": {
      "provenance": []
    }
  },
  "nbformat_minor": 4,
  "nbformat": 4,
  "cells": [
    {
      "cell_type": "markdown",
      "source": "<h1>Array</h1><br>\n<ol>\n    <li>Array adalah tipe data yang berisi kumpulan dari beberapa nilai.</li>\n    <li>Nilai yang terdapat dalam array disebut dengan elemen, dan pada setiap elemen memiliki nomor pengenal yang dikenal dengan istilah indeks</li>\n    <li>Penomoran indeks di dalam array dimulai dari angka 0, sehingga elemen pertama berada di index 0, elemen kedua berada di indeks 1, sehingga dapat disimpulkan bahwa elemen yang ke n berada pada indeks n-1</li>\n</ol>\n\n<h3>Ilustrasi Array</h3>\n<img src=\"https://galuhratna.alza.web.id/blog/wp-content/uploads/2020/03/array1D-300x82.png\"></img>\n\n<h2>Operasi Array</h2><hr>",
      "metadata": {
        "id": "vGfCRcshyOmp"
      }
    },
    {
      "cell_type": "markdown",
      "source": "<h3>1. Membuat Array</h3>",
      "metadata": {
        "id": "FrjTqVM8yOm6"
      }
    },
    {
      "cell_type": "code",
      "source": "#import library array sebagai alias\n\nimport array as arr\narr_int = arr.array('i',[10,20,30,40,90,80])\n\nprint(arr_int)",
      "metadata": {
        "id": "8TxkP8HgyOm8",
        "colab": {
          "base_uri": "https://localhost:8080/"
        },
        "executionInfo": {
          "status": "ok",
          "timestamp": 1670823390333,
          "user_tz": 480,
          "elapsed": 458,
          "user": {
            "displayName": "Lupusmlbb",
            "userId": "18339227963392725119"
          }
        },
        "outputId": "3f800ef7-25bc-454f-865d-6d6837159e58"
      },
      "outputs": [
        {
          "output_type": "stream",
          "name": "stdout",
          "text": "array('i', [10, 20, 30, 40, 90, 80])\n"
        }
      ],
      "execution_count": null
    },
    {
      "cell_type": "markdown",
      "source": "<h3>2. Mengakses Array</h3>\n",
      "metadata": {
        "id": "nl5iHPFdyOpi"
      }
    },
    {
      "cell_type": "code",
      "source": "pjg_array = len(arr_int)\nprint(\"elemen array terakhir:\",arr_int[pjg_array-1])\n\n#Looping mengakses nilai elemen tanpa mengetahui indeks\nfor i in arr_int:\n    print(i)\nprint('--------------------------------')  \n#looping mengakses nilai elemen dengan paramter indeks\ntotal = 0\nfor j in range(pjg_array):\n    total = total + arr_int[j]\n    print(total)\nrata2 = total / pjg_array\nprint(f\"nilai rata-rata: {rata2}\")",
      "metadata": {
        "scrolled": true,
        "id": "xKWQUUTUyOpk",
        "colab": {
          "base_uri": "https://localhost:8080/"
        },
        "executionInfo": {
          "status": "ok",
          "timestamp": 1670823569532,
          "user_tz": 480,
          "elapsed": 376,
          "user": {
            "displayName": "Lupusmlbb",
            "userId": "18339227963392725119"
          }
        },
        "outputId": "dc00c561-ef4b-40a4-ef00-c17bdf85b8bb"
      },
      "outputs": [
        {
          "output_type": "stream",
          "name": "stdout",
          "text": "elemen array terakhir: 80\n,10\n,20\n,30\n,40\n,90\n,80\n,--------------------------------\n,10\n,30\n,60\n,100\n,190\n,270\n,nilai rata-rata: 45.0\n"
        }
      ],
      "execution_count": null
    },
    {
      "cell_type": "markdown",
      "source": "<h3>3. Menambah Array</h3> ",
      "metadata": {
        "id": "qQRmc5gxyOpn"
      }
    },
    {
      "cell_type": "code",
      "source": "posisi = 3\nnilai = 66\narr_int.insert(posisi,nilai)\nprint(arr_int)",
      "metadata": {
        "id": "MYG4w5VzyOqK",
        "colab": {
          "base_uri": "https://localhost:8080/"
        },
        "executionInfo": {
          "status": "ok",
          "timestamp": 1670823578772,
          "user_tz": 480,
          "elapsed": 535,
          "user": {
            "displayName": "Lupusmlbb",
            "userId": "18339227963392725119"
          }
        },
        "outputId": "c844dec1-306b-47e9-95b6-36b9656bccd9"
      },
      "outputs": [
        {
          "output_type": "stream",
          "name": "stdout",
          "text": "array('i', [10, 20, 30, 66, 40, 90, 80])\n"
        }
      ],
      "execution_count": null
    },
    {
      "cell_type": "markdown",
      "source": "<h3>4. Mengupdate Array</h3>",
      "metadata": {
        "id": "BDG8iHwjyOql"
      }
    },
    {
      "cell_type": "code",
      "source": "arr_int[0] = 80\nprint(arr_int)",
      "metadata": {
        "id": "fcBMLJImyOqn",
        "colab": {
          "base_uri": "https://localhost:8080/"
        },
        "executionInfo": {
          "status": "ok",
          "timestamp": 1670823581876,
          "user_tz": 480,
          "elapsed": 362,
          "user": {
            "displayName": "Lupusmlbb",
            "userId": "18339227963392725119"
          }
        },
        "outputId": "16bb7dc3-fd07-4bea-80cd-7c6a686b2be4"
      },
      "outputs": [
        {
          "output_type": "stream",
          "name": "stdout",
          "text": "array('i', [80, 20, 30, 66, 40, 90, 80])\n"
        }
      ],
      "execution_count": null
    },
    {
      "cell_type": "markdown",
      "source": "<h3>5. Menghapus Array</h3>",
      "metadata": {
        "id": "NPJTiul6yOqz"
      }
    },
    {
      "cell_type": "code",
      "source": "arr_int.remove(80)\nprint(arr_int)\n\narr_int.pop()\nprint(arr_int)",
      "metadata": {
        "id": "bEIEWDgSyOq2",
        "colab": {
          "base_uri": "https://localhost:8080/"
        },
        "executionInfo": {
          "status": "ok",
          "timestamp": 1670823594634,
          "user_tz": 480,
          "elapsed": 386,
          "user": {
            "displayName": "Lupusmlbb",
            "userId": "18339227963392725119"
          }
        },
        "outputId": "ab0d402a-a2e0-49a9-a3ea-80645d19c5d6"
      },
      "outputs": [
        {
          "output_type": "stream",
          "name": "stdout",
          "text": "array('i', [20, 30, 66, 40, 90, 80])\n,array('i', [20, 30, 66, 40, 90])\n"
        }
      ],
      "execution_count": null
    },
    {
      "cell_type": "markdown",
      "source": "<h3>6. Mencari Array</h3>",
      "metadata": {
        "id": "k6S1ujPZyOq4"
      }
    },
    {
      "cell_type": "code",
      "source": "arr_int.index(30)",
      "metadata": {
        "id": "hDiPpYHvyOq6",
        "colab": {
          "base_uri": "https://localhost:8080/"
        },
        "executionInfo": {
          "status": "ok",
          "timestamp": 1670823597434,
          "user_tz": 480,
          "elapsed": 412,
          "user": {
            "displayName": "Lupusmlbb",
            "userId": "18339227963392725119"
          }
        },
        "outputId": "0a76c603-adbb-4a19-f871-a20f1bd428d6"
      },
      "outputs": [
        {
          "output_type": "execute_result",
          "data": {
            "text/plain": [
              "1"
            ]
          },
          "metadata": {},
          "execution_count": 11
        }
      ],
      "execution_count": null
    },
    {
      "cell_type": "markdown",
      "source": "<h3>Latihan Soal</h3>",
      "metadata": {
        "id": "OFJOK-bzyOq7"
      }
    },
    {
      "cell_type": "markdown",
      "source": "1. Sebuah kamar kost di daerah cisaat terdiri dari 1 lantai dan 10 kamar. Pemilik kost menandai kamar dengan tanda 'O' jika ada penghuninya dan tanda 'X' jika masih kosong. Reperesentasikan permasalahan tersebut dimana kamar yang sudah terisi adalah kamar 2,4,7 dan 9. ",
      "metadata": {
        "id": "2weEVyrTyOsO"
      }
    },
    {
      "cell_type": "code",
      "source": "#import library array\n\nkamar=arr.array('u',[])\nprint(kamar)\n\nkamar=arr.array('u',[])\nfor i in range(10):\n  if i+1==2 or i+1==4 or i+1==7 or i+1==9:\n    kamar.insert(i-1,'O')\n  else:\n    kamar.insert(i+1,'X')\nprint(kamar)",
      "metadata": {
        "id": "60pfIbP-yOsV",
        "colab": {
          "base_uri": "https://localhost:8080/"
        },
        "executionInfo": {
          "status": "ok",
          "timestamp": 1670827225158,
          "user_tz": 480,
          "elapsed": 392,
          "user": {
            "displayName": "Lupusmlbb",
            "userId": "18339227963392725119"
          }
        },
        "outputId": "7ce92bfd-054a-4e45-e4f9-8cbf221a0566"
      },
      "outputs": [
        {
          "output_type": "stream",
          "name": "stdout",
          "text": "array('u')\n,array('u', 'OXOXXOXOXX')\n"
        }
      ],
      "execution_count": null
    },
    {
      "cell_type": "markdown",
      "source": "2. Berdasarkan soal 1, hitunglah berapa jumlah kamar yang masih kosong dan sebutkan kamar nomor berapa saja!",
      "metadata": {
        "id": "7cwxR3_vyOsW"
      }
    },
    {
      "cell_type": "code",
      "source": "#Your Code here\nfor i in kamar:\n  \n  nomor_yang_kosong=\"\"\n  jumlah=0\n  for i in kamar:\n    nomor -+=1\n    if i==2 or i==2 or i==7 or i==9:\n      kamar.insert(i-1,'O')\n    else:\n      kamar.insert(i-1,'X')\nprint(kamar)",
      "metadata": {
        "id": "D7XmGiohyOsY"
      },
      "outputs": [],
      "execution_count": null
    },
    {
      "cell_type": "markdown",
      "source": "3. Pada tahun 2022 pemilik kost ingin mengubah fungsi kamar kost menjadi rumah pribadi, sehingga kamar kost tersebut dirobohkan. Representasikan permasalahan tersebut kedalam fungsi array",
      "metadata": {
        "id": "hO-Br96SyOsa"
      }
    },
    {
      "cell_type": "code",
      "source": "def robohkan_kamar(kamar):\n    print(\"Jumlah kamar sebelum dirobohkan:\", len(kamar))\n    kamar.clear()  # Hapus semua elemen\n    print(\"Kamar telah dirobohkan:\", kamar)\n    return kamar\n\n# Contoh penggunaan\nkamar_kost = [\"1\", \"2\", \"3\", \"4\", \"5\", \"6\", \"7\", \"8\", \"9\", \"10\"]\nkamar_kost = robohkan_kamar(kamar_kost)\n",
      "metadata": {
        "id": "0gK5229AyOsc",
        "trusted": true
      },
      "outputs": [
        {
          "name": "stdout",
          "output_type": "stream",
          "text": "Jumlah kamar sebelum dirobohkan: 10\nKamar telah dirobohkan: []\n"
        }
      ],
      "execution_count": 13
    },
    {
      "cell_type": "markdown",
      "source": "4. Seorang penjual tahu menata raknya seperti berikut ini: <br>\n[10,10,10,10,10,10,10,10,10,10]<br>\nSetiap 1 tahu dijual dengan harga 1_000. Buatlah implementasi program yang mempunyai input uang dan jumlah tahu yang akan dibeli. Contoh input outputnya seperti berikut ini:<br>\ninput uang : 100_000<br>\njumlah tahu yang akan dibeli: 20<br>\n\nOutput:<br>\nTotal harga yang dibeli : 20_000<br>\nUang Kembali : 80_000<br>\nSisa Tahu : 80<br>\nPosisi Akhir Rak : [0,0,10,10,10,10,10,10,10,10]",
      "metadata": {
        "id": "b35s-26NyOsc"
      }
    },
    {
      "cell_type": "code",
      "source": "rak = [10] * 10\nharga_tahu = 1000\n\nuang = 100_000\njumlah_beli = 20\n\ntotal_harga = jumlah_beli * harga_tahu\n\nif uang < total_harga:\n    print(\"Uang tidak cukup untuk membeli tahu sebanyak itu.\")\nelse:\n    sisa_beli = jumlah_beli\n    for i in range(len(rak)):\n        if sisa_beli == 0:\n            break\n        if rak[i] <= sisa_beli:\n            sisa_beli -= rak[i]\n            rak[i] = 0\n        else:\n            rak[i] -= sisa_beli\n            sisa_beli = 0\n\n    uang_kembali = uang - total_harga\n    sisa_tahu = sum(rak)\n\n    # Cetak hasil\n    print(f\"Total harga yang dibeli : {total_harga:_}\".replace(\"_\", \".\"))\n    print(f\"Uang Kembali : {uang_kembali:_}\".replace(\"_\", \".\"))\n    print(f\"Sisa Tahu : {sisa_tahu}\")\n    print(f\"Posisi Akhir Rak : {rak}\")\n",
      "metadata": {
        "id": "eFHTWNlZyOsd",
        "trusted": true
      },
      "outputs": [
        {
          "name": "stdout",
          "output_type": "stream",
          "text": "Total harga yang dibeli : 20.000\nUang Kembali : 80.000\nSisa Tahu : 80\nPosisi Akhir Rak : [0, 0, 10, 10, 10, 10, 10, 10, 10, 10]\n"
        }
      ],
      "execution_count": 11
    },
    {
      "cell_type": "code",
      "source": "",
      "metadata": {
        "trusted": true
      },
      "outputs": [],
      "execution_count": null
    }
  ]
}